{
 "cells": [
  {
   "cell_type": "code",
   "execution_count": 14,
   "id": "0882ab17-f082-4095-9cd1-c3d64a090e9d",
   "metadata": {},
   "outputs": [],
   "source": [
    "# Q1 Given are some following variables containing data\n",
    "#var1 = ‘ ‘\n",
    "#var2 = ‘[ DS , ML , Python]’\n",
    "#var3 = [ ‘DS’ , ’ML’ , ‘Python’ ]\n",
    "#var4 = 1."
   ]
  },
  {
   "cell_type": "code",
   "execution_count": 3,
   "id": "188ccc97-0238-41be-a628-20e41a90b634",
   "metadata": {},
   "outputs": [
    {
     "data": {
      "text/plain": [
       "str"
      ]
     },
     "execution_count": 3,
     "metadata": {},
     "output_type": "execute_result"
    }
   ],
   "source": [
    "type('')"
   ]
  },
  {
   "cell_type": "code",
   "execution_count": 8,
   "id": "66efeeb0-9d77-45e5-bf13-5a874eee8dd2",
   "metadata": {},
   "outputs": [
    {
     "data": {
      "text/plain": [
       "str"
      ]
     },
     "execution_count": 8,
     "metadata": {},
     "output_type": "execute_result"
    }
   ],
   "source": [
    "type ('[ DS , ML , Python]')"
   ]
  },
  {
   "cell_type": "code",
   "execution_count": 11,
   "id": "c5e540a2-8538-484a-99f3-4f108e2afb90",
   "metadata": {},
   "outputs": [
    {
     "data": {
      "text/plain": [
       "list"
      ]
     },
     "execution_count": 11,
     "metadata": {},
     "output_type": "execute_result"
    }
   ],
   "source": [
    "type([ 'DS' , 'ML' , 'Python' ])"
   ]
  },
  {
   "cell_type": "code",
   "execution_count": 15,
   "id": "10e93d44-1b32-409e-8ddb-9efafb5d2775",
   "metadata": {},
   "outputs": [
    {
     "data": {
      "text/plain": [
       "int"
      ]
     },
     "execution_count": 15,
     "metadata": {},
     "output_type": "execute_result"
    }
   ],
   "source": [
    "type(1)"
   ]
  },
  {
   "cell_type": "code",
   "execution_count": 16,
   "id": "52bdec79-f809-4d2c-b437-775add5bcd9b",
   "metadata": {},
   "outputs": [],
   "source": [
    "# Create a list of length 10 of your choice containing multiple types of data. \n",
    "#Using for loop print the element and its data type."
   ]
  },
  {
   "cell_type": "code",
   "execution_count": 20,
   "id": "5889cb00-b2d1-486c-a6b4-a1143060bb41",
   "metadata": {},
   "outputs": [],
   "source": [
    "A=[2,3,4,5,6,'Aditya',67.56, False, 3+2j,8]"
   ]
  },
  {
   "cell_type": "code",
   "execution_count": 25,
   "id": "b9ffbe2f-2e4c-4209-a437-4c62ec9602a3",
   "metadata": {},
   "outputs": [
    {
     "name": "stdout",
     "output_type": "stream",
     "text": [
      "2\n",
      "<class 'int'>\n",
      "3\n",
      "<class 'int'>\n",
      "4\n",
      "<class 'int'>\n",
      "5\n",
      "<class 'int'>\n",
      "6\n",
      "<class 'int'>\n",
      "Aditya\n",
      "<class 'str'>\n",
      "67.56\n",
      "<class 'float'>\n",
      "False\n",
      "<class 'bool'>\n",
      "(3+2j)\n",
      "<class 'complex'>\n",
      "8\n",
      "<class 'int'>\n"
     ]
    }
   ],
   "source": [
    "for i in A:\n",
    "    print(i)\n",
    "    print(type(i))\n",
    "    "
   ]
  },
  {
   "cell_type": "code",
   "execution_count": 1,
   "id": "a240d54f-7171-4aea-ad5e-680747a59fa2",
   "metadata": {},
   "outputs": [],
   "source": [
    "# Create a list containing 25 int type data. Using for loop and \n",
    "# if-else condition print if the element is divisible by 3 or not."
   ]
  },
  {
   "cell_type": "code",
   "execution_count": 4,
   "id": "5bb25b09-48ba-46cd-9bb5-4786451b310b",
   "metadata": {},
   "outputs": [
    {
     "name": "stdout",
     "output_type": "stream",
     "text": [
      "3\n",
      "6\n",
      "9\n",
      "12\n",
      "15\n",
      "18\n",
      "21\n",
      "24\n"
     ]
    }
   ],
   "source": [
    "Z=[1,2,3,4,5,6,7,8,9,10,11,12,13,14,15,16,17,18,19,20,21,22,23,24,25]\n",
    "\n",
    "for i in Z:\n",
    "    if i%3==0:   # means if the reminder is '0', that number is divisible by 3.\n",
    "        print(i)"
   ]
  },
  {
   "cell_type": "code",
   "execution_count": 5,
   "id": "36fc6eb6-d03c-4e2b-9a64-23d8f2dddc13",
   "metadata": {},
   "outputs": [],
   "source": [
    "# What do you understand about mutable and immutable data types? Give examples for both showing this property."
   ]
  },
  {
   "cell_type": "code",
   "execution_count": 7,
   "id": "063bde8a-e1a0-4019-a558-24d1b9e0213b",
   "metadata": {},
   "outputs": [],
   "source": [
    "B=('aditya')"
   ]
  },
  {
   "cell_type": "code",
   "execution_count": 9,
   "id": "c7cf9232-b8cb-4eba-88a6-8945dc276132",
   "metadata": {},
   "outputs": [
    {
     "ename": "TypeError",
     "evalue": "'str' object does not support item assignment",
     "output_type": "error",
     "traceback": [
      "\u001b[0;31m---------------------------------------------------------------------------\u001b[0m",
      "\u001b[0;31mTypeError\u001b[0m                                 Traceback (most recent call last)",
      "Cell \u001b[0;32mIn[9], line 1\u001b[0m\n\u001b[0;32m----> 1\u001b[0m \u001b[43mB\u001b[49m\u001b[43m[\u001b[49m\u001b[38;5;241;43m2\u001b[39;49m\u001b[43m]\u001b[49m\u001b[38;5;241m=\u001b[39m\u001b[38;5;124m'\u001b[39m\u001b[38;5;124mp\u001b[39m\u001b[38;5;124m'\u001b[39m   \u001b[38;5;66;03m# string is imutable\u001b[39;00m\n",
      "\u001b[0;31mTypeError\u001b[0m: 'str' object does not support item assignment"
     ]
    }
   ],
   "source": [
    "B[2]='p'   # string is imutable"
   ]
  },
  {
   "cell_type": "code",
   "execution_count": 2,
   "id": "c13e7fa8-0d9c-4912-86a1-be66301b6160",
   "metadata": {},
   "outputs": [],
   "source": [
    "D=['Aditya',2,5,True,3,9]\n"
   ]
  },
  {
   "cell_type": "code",
   "execution_count": 6,
   "id": "0a823a84-c87c-4a2c-a444-0b81f6db1b2e",
   "metadata": {},
   "outputs": [
    {
     "data": {
      "text/plain": [
       "list"
      ]
     },
     "execution_count": 6,
     "metadata": {},
     "output_type": "execute_result"
    }
   ],
   "source": [
    "type(D)"
   ]
  },
  {
   "cell_type": "code",
   "execution_count": 9,
   "id": "4ce6a8c5-470b-4783-b890-a142ac461515",
   "metadata": {},
   "outputs": [],
   "source": [
    "D[2]='Khajuria'   # Mutable object (List)"
   ]
  },
  {
   "cell_type": "code",
   "execution_count": 10,
   "id": "ec2b3999-151f-44d5-879c-79e4ed4d2bd0",
   "metadata": {},
   "outputs": [
    {
     "data": {
      "text/plain": [
       "['Aditya', 2, 'Khajuria', True, 3, 9]"
      ]
     },
     "execution_count": 10,
     "metadata": {},
     "output_type": "execute_result"
    }
   ],
   "source": [
    "D"
   ]
  }
 ],
 "metadata": {
  "kernelspec": {
   "display_name": "Python 3 (ipykernel)",
   "language": "python",
   "name": "python3"
  },
  "language_info": {
   "codemirror_mode": {
    "name": "ipython",
    "version": 3
   },
   "file_extension": ".py",
   "mimetype": "text/x-python",
   "name": "python",
   "nbconvert_exporter": "python",
   "pygments_lexer": "ipython3",
   "version": "3.10.8"
  }
 },
 "nbformat": 4,
 "nbformat_minor": 5
}
